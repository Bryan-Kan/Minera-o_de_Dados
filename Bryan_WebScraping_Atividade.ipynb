{
  "nbformat": 4,
  "nbformat_minor": 0,
  "metadata": {
    "colab": {
      "provenance": [],
      "include_colab_link": true
    },
    "kernelspec": {
      "name": "python3",
      "display_name": "Python 3"
    },
    "language_info": {
      "name": "python"
    }
  },
  "cells": [
    {
      "cell_type": "markdown",
      "metadata": {
        "id": "view-in-github",
        "colab_type": "text"
      },
      "source": [
        "<a href=\"https://colab.research.google.com/github/Bryan-Kan/Minera-o_de_Dados/blob/master/Bryan_WebScraping_Atividade.ipynb\" target=\"_parent\"><img src=\"https://colab.research.google.com/assets/colab-badge.svg\" alt=\"Open In Colab\"/></a>"
      ]
    },
    {
      "cell_type": "code",
      "execution_count": null,
      "metadata": {
        "colab": {
          "base_uri": "https://localhost:8080/"
        },
        "id": "8nIo4cK4u66D",
        "outputId": "55e1a91c-3360-4248-c1cf-4780601052eb",
        "collapsed": true
      },
      "outputs": [
        {
          "output_type": "stream",
          "name": "stdout",
          "text": [
            "Requirement already satisfied: requests in /usr/local/lib/python3.10/dist-packages (2.32.3)\n",
            "Requirement already satisfied: charset-normalizer<4,>=2 in /usr/local/lib/python3.10/dist-packages (from requests) (3.4.0)\n",
            "Requirement already satisfied: idna<4,>=2.5 in /usr/local/lib/python3.10/dist-packages (from requests) (3.10)\n",
            "Requirement already satisfied: urllib3<3,>=1.21.1 in /usr/local/lib/python3.10/dist-packages (from requests) (2.2.3)\n",
            "Requirement already satisfied: certifi>=2017.4.17 in /usr/local/lib/python3.10/dist-packages (from requests) (2024.8.30)\n",
            "Requirement already satisfied: beautifulsoup4 in /usr/local/lib/python3.10/dist-packages (4.12.3)\n",
            "Requirement already satisfied: soupsieve>1.2 in /usr/local/lib/python3.10/dist-packages (from beautifulsoup4) (2.6)\n",
            "Requirement already satisfied: pandas in /usr/local/lib/python3.10/dist-packages (2.2.2)\n",
            "Requirement already satisfied: numpy>=1.22.4 in /usr/local/lib/python3.10/dist-packages (from pandas) (1.26.4)\n",
            "Requirement already satisfied: python-dateutil>=2.8.2 in /usr/local/lib/python3.10/dist-packages (from pandas) (2.8.2)\n",
            "Requirement already satisfied: pytz>=2020.1 in /usr/local/lib/python3.10/dist-packages (from pandas) (2024.2)\n",
            "Requirement already satisfied: tzdata>=2022.7 in /usr/local/lib/python3.10/dist-packages (from pandas) (2024.2)\n",
            "Requirement already satisfied: six>=1.5 in /usr/local/lib/python3.10/dist-packages (from python-dateutil>=2.8.2->pandas) (1.16.0)\n"
          ]
        }
      ],
      "source": [
        "!pip install requests\n",
        "!pip install beautifulsoup4\n",
        "!pip install pandas"
      ]
    },
    {
      "cell_type": "code",
      "source": [
        "import requests\n",
        "from bs4 import BeautifulSoup\n",
        "import pandas as pd\n",
        "\n",
        "# URL da página inicial\n",
        "url = 'https://books.toscrape.com/'\n",
        "\n",
        "# Fazer a requisição para o site\n",
        "response = requests.get(url)"
      ],
      "metadata": {
        "id": "0pMdnIPnvEof"
      },
      "execution_count": 17,
      "outputs": []
    },
    {
      "cell_type": "code",
      "source": [
        "if response.status_code == 200:\n",
        "  print(\"Conexão bem Sucedida!\")\n",
        "\n",
        "  # Parsing do HTML com BeautifulSoup\n",
        "  soup = BeautifulSoup(response.text, 'html.parser')\n",
        "\n",
        "  print(soup)\n",
        "\n",
        "else:\n",
        "  print(\"Erro ao acessar o site!\")"
      ],
      "metadata": {
        "collapsed": true,
        "id": "NuxJClvbrXmj"
      },
      "execution_count": null,
      "outputs": []
    },
    {
      "cell_type": "code",
      "source": [
        "print(response.text)"
      ],
      "metadata": {
        "id": "gsjfy-pmwTyE",
        "collapsed": true
      },
      "execution_count": null,
      "outputs": []
    },
    {
      "cell_type": "code",
      "source": [
        "response.content"
      ],
      "metadata": {
        "id": "It0YUj-Pw3ZF",
        "collapsed": true
      },
      "execution_count": null,
      "outputs": []
    },
    {
      "cell_type": "markdown",
      "source": [
        "# **Pegando O Titulo**"
      ],
      "metadata": {
        "id": "AuCV9k5DDrK3"
      }
    },
    {
      "cell_type": "code",
      "source": [
        "# Encontrar todas as categorias (elementos h3)\n",
        "titulos = soup.find_all('h3')"
      ],
      "metadata": {
        "id": "eOWQYohzxTC0"
      },
      "execution_count": 79,
      "outputs": []
    },
    {
      "cell_type": "code",
      "source": [
        "titulos"
      ],
      "metadata": {
        "id": "l9mW9oUYy6gU",
        "collapsed": true
      },
      "execution_count": null,
      "outputs": []
    },
    {
      "cell_type": "code",
      "source": [
        "lista_titulos = []"
      ],
      "metadata": {
        "id": "v_LUvcHty_6C"
      },
      "execution_count": 104,
      "outputs": []
    },
    {
      "cell_type": "code",
      "source": [
        "for titulo in titulos:\n",
        "    # Encontrando o elemento <a> dentro do <h3>\n",
        "    nome = titulo.find('a')\n",
        "    if nome and 'title' in nome.attrs:\n",
        "        texto = nome['title']  # Pega o atributo 'title'\n",
        "        print(texto)"
      ],
      "metadata": {
        "id": "MnEL1V3m-Bj3"
      },
      "execution_count": null,
      "outputs": []
    },
    {
      "cell_type": "code",
      "source": [
        "for titulo in titulos:\n",
        "\n",
        "    link = titulo.find('a')\n",
        "    if link and 'title' in link.attrs:\n",
        "        texto = link['title']\n",
        "\n",
        "        lista_titulos.append(texto)  # Adiciona o título à lista\n"
      ],
      "metadata": {
        "id": "S3x9cX1rDJse"
      },
      "execution_count": 106,
      "outputs": []
    },
    {
      "cell_type": "code",
      "source": [
        "print(lista_titulos)"
      ],
      "metadata": {
        "id": "lFSAEYpSPo8a"
      },
      "execution_count": null,
      "outputs": []
    },
    {
      "cell_type": "markdown",
      "source": [
        "# **Pegando Valores**"
      ],
      "metadata": {
        "id": "Xv6QTPCMEJCX"
      }
    },
    {
      "cell_type": "code",
      "source": [
        "valores = soup.find_all(class_='price_color')\n",
        "\n",
        "# Loop para imprimir os textos\n",
        "for valor in valores:\n",
        "    print(valor.get_text())"
      ],
      "metadata": {
        "id": "6oVamt8cJ1yN"
      },
      "execution_count": null,
      "outputs": []
    },
    {
      "cell_type": "code",
      "source": [
        "lista_valores = []"
      ],
      "metadata": {
        "id": "3mJTwW03MHYV"
      },
      "execution_count": 121,
      "outputs": []
    },
    {
      "cell_type": "code",
      "source": [
        "for valor in valores:\n",
        "  texto = valor.get_text()\n",
        "  lista_valores.append(texto.replace('Â£', '').strip())"
      ],
      "metadata": {
        "id": "dF7lO8BxzaX7"
      },
      "execution_count": 124,
      "outputs": []
    },
    {
      "cell_type": "code",
      "source": [
        "valor_produto = valor_produto"
      ],
      "metadata": {
        "id": "jU0E-BLrRqml"
      },
      "execution_count": null,
      "outputs": []
    },
    {
      "cell_type": "code",
      "source": [
        "# Exibir a lista de categorias\n",
        "print(lista_valores)"
      ],
      "metadata": {
        "colab": {
          "base_uri": "https://localhost:8080/"
        },
        "id": "Iz3C3Vn9zjeh",
        "outputId": "1e12cfde-4306-442f-cc55-79ab240883a6"
      },
      "execution_count": 125,
      "outputs": [
        {
          "output_type": "stream",
          "name": "stdout",
          "text": [
            "['51.77', '53.74', '50.10', '47.82', '54.23', '22.65', '33.34', '17.93', '22.60', '52.15', '13.99', '20.66', '17.46', '52.29', '35.02', '57.25', '23.88', '37.59', '51.33', '45.17', '51.77', '53.74', '50.10', '47.82', '54.23', '22.65', '33.34', '17.93', '22.60', '52.15', '13.99', '20.66', '17.46', '52.29', '35.02', '57.25', '23.88', '37.59', '51.33', '45.17']\n"
          ]
        }
      ]
    },
    {
      "cell_type": "markdown",
      "source": [
        "# **Juntando os dois**"
      ],
      "metadata": {
        "id": "Sh5o4x4iNKG-"
      }
    },
    {
      "cell_type": "code",
      "source": [
        "Livros_valores = []\n",
        "\n",
        "# Loop para combinar os elementos das duas listas\n",
        "for titulo, valor in zip(lista_titulos, lista_valores):\n",
        "    Livros_valores.append((titulo, valor))\n",
        "\n",
        "# Imprime a lista combinada\n",
        "print(Livros_valores)\n",
        "\n"
      ],
      "metadata": {
        "colab": {
          "base_uri": "https://localhost:8080/"
        },
        "id": "E47ksktLOtfI",
        "outputId": "439532e7-4a70-45b9-8542-588e8d8ad210"
      },
      "execution_count": 126,
      "outputs": [
        {
          "output_type": "stream",
          "name": "stdout",
          "text": [
            "[('A Light in the Attic', '51.77'), ('Tipping the Velvet', '53.74'), ('Soumission', '50.10'), ('Sharp Objects', '47.82'), ('Sapiens: A Brief History of Humankind', '54.23'), ('The Requiem Red', '22.65'), ('The Dirty Little Secrets of Getting Your Dream Job', '33.34'), ('The Coming Woman: A Novel Based on the Life of the Infamous Feminist, Victoria Woodhull', '17.93'), ('The Boys in the Boat: Nine Americans and Their Epic Quest for Gold at the 1936 Berlin Olympics', '22.60'), ('The Black Maria', '52.15'), ('Starving Hearts (Triangular Trade Trilogy, #1)', '13.99'), (\"Shakespeare's Sonnets\", '20.66'), ('Set Me Free', '17.46'), (\"Scott Pilgrim's Precious Little Life (Scott Pilgrim #1)\", '52.29'), ('Rip it Up and Start Again', '35.02'), ('Our Band Could Be Your Life: Scenes from the American Indie Underground, 1981-1991', '57.25'), ('Olio', '23.88'), ('Mesaerion: The Best Science Fiction Stories 1800-1849', '37.59'), ('Libertarianism for Beginners', '51.33'), (\"It's Only the Himalayas\", '45.17')]\n"
          ]
        }
      ]
    },
    {
      "cell_type": "markdown",
      "source": [
        "# **Colocando o Titulo**"
      ],
      "metadata": {
        "id": "uuWs5wtQTEaa"
      }
    },
    {
      "cell_type": "code",
      "source": [
        "df = pd.DataFrame(Livros_valores, columns=['Titulo', 'Valor Â£'])"
      ],
      "metadata": {
        "id": "aqq-I-VlSzZV"
      },
      "execution_count": 127,
      "outputs": []
    },
    {
      "cell_type": "code",
      "source": [
        "print(df)"
      ],
      "metadata": {
        "colab": {
          "base_uri": "https://localhost:8080/"
        },
        "id": "f4h0h20TTDmZ",
        "outputId": "daa00b3d-3209-48a5-f7d8-35593d50c475"
      },
      "execution_count": 128,
      "outputs": [
        {
          "output_type": "stream",
          "name": "stdout",
          "text": [
            "                                               Titulo Valor Â£\n",
            "0                                A Light in the Attic    51.77\n",
            "1                                  Tipping the Velvet    53.74\n",
            "2                                          Soumission    50.10\n",
            "3                                       Sharp Objects    47.82\n",
            "4               Sapiens: A Brief History of Humankind    54.23\n",
            "5                                     The Requiem Red    22.65\n",
            "6   The Dirty Little Secrets of Getting Your Dream...    33.34\n",
            "7   The Coming Woman: A Novel Based on the Life of...    17.93\n",
            "8   The Boys in the Boat: Nine Americans and Their...    22.60\n",
            "9                                     The Black Maria    52.15\n",
            "10     Starving Hearts (Triangular Trade Trilogy, #1)    13.99\n",
            "11                              Shakespeare's Sonnets    20.66\n",
            "12                                        Set Me Free    17.46\n",
            "13  Scott Pilgrim's Precious Little Life (Scott Pi...    52.29\n",
            "14                          Rip it Up and Start Again    35.02\n",
            "15  Our Band Could Be Your Life: Scenes from the A...    57.25\n",
            "16                                               Olio    23.88\n",
            "17  Mesaerion: The Best Science Fiction Stories 18...    37.59\n",
            "18                       Libertarianism for Beginners    51.33\n",
            "19                            It's Only the Himalayas    45.17\n"
          ]
        }
      ]
    }
  ]
}