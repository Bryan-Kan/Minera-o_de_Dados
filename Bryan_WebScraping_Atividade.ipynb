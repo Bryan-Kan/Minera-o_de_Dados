{
  "nbformat": 4,
  "nbformat_minor": 0,
  "metadata": {
    "colab": {
      "provenance": [],
      "include_colab_link": true
    },
    "kernelspec": {
      "name": "python3",
      "display_name": "Python 3"
    },
    "language_info": {
      "name": "python"
    }
  },
  "cells": [
    {
      "cell_type": "markdown",
      "metadata": {
        "id": "view-in-github",
        "colab_type": "text"
      },
      "source": [
        "<a href=\"https://colab.research.google.com/github/Bryan-Kan/Minera-o_de_Dados/blob/master/Bryan_WebScraping_Atividade.ipynb\" target=\"_parent\"><img src=\"https://colab.research.google.com/assets/colab-badge.svg\" alt=\"Open In Colab\"/></a>"
      ]
    },
    {
      "cell_type": "code",
      "execution_count": 1,
      "metadata": {
        "colab": {
          "base_uri": "https://localhost:8080/"
        },
        "id": "8nIo4cK4u66D",
        "outputId": "4aebb990-fe23-4050-9b55-592101ccfa43",
        "collapsed": true
      },
      "outputs": [
        {
          "output_type": "stream",
          "name": "stdout",
          "text": [
            "Requirement already satisfied: requests in /usr/local/lib/python3.10/dist-packages (2.32.3)\n",
            "Requirement already satisfied: charset-normalizer<4,>=2 in /usr/local/lib/python3.10/dist-packages (from requests) (3.4.0)\n",
            "Requirement already satisfied: idna<4,>=2.5 in /usr/local/lib/python3.10/dist-packages (from requests) (3.10)\n",
            "Requirement already satisfied: urllib3<3,>=1.21.1 in /usr/local/lib/python3.10/dist-packages (from requests) (2.2.3)\n",
            "Requirement already satisfied: certifi>=2017.4.17 in /usr/local/lib/python3.10/dist-packages (from requests) (2024.8.30)\n",
            "Requirement already satisfied: beautifulsoup4 in /usr/local/lib/python3.10/dist-packages (4.12.3)\n",
            "Requirement already satisfied: soupsieve>1.2 in /usr/local/lib/python3.10/dist-packages (from beautifulsoup4) (2.6)\n",
            "Requirement already satisfied: pandas in /usr/local/lib/python3.10/dist-packages (2.2.2)\n",
            "Requirement already satisfied: numpy>=1.22.4 in /usr/local/lib/python3.10/dist-packages (from pandas) (1.26.4)\n",
            "Requirement already satisfied: python-dateutil>=2.8.2 in /usr/local/lib/python3.10/dist-packages (from pandas) (2.8.2)\n",
            "Requirement already satisfied: pytz>=2020.1 in /usr/local/lib/python3.10/dist-packages (from pandas) (2024.2)\n",
            "Requirement already satisfied: tzdata>=2022.7 in /usr/local/lib/python3.10/dist-packages (from pandas) (2024.2)\n",
            "Requirement already satisfied: six>=1.5 in /usr/local/lib/python3.10/dist-packages (from python-dateutil>=2.8.2->pandas) (1.16.0)\n"
          ]
        }
      ],
      "source": [
        "!pip install requests\n",
        "!pip install beautifulsoup4\n",
        "!pip install pandas"
      ]
    },
    {
      "cell_type": "code",
      "source": [
        "import requests\n",
        "from bs4 import BeautifulSoup\n",
        "import pandas as pd\n",
        "\n",
        "# URL da página inicial\n",
        "url = 'https://books.toscrape.com/'\n",
        "\n",
        "# Fazer a requisição para o site\n",
        "response = requests.get(url)"
      ],
      "metadata": {
        "id": "0pMdnIPnvEof"
      },
      "execution_count": 2,
      "outputs": []
    },
    {
      "cell_type": "code",
      "source": [
        "if response.status_code == 200:\n",
        "  print(\"Conexão bem Sucedida!\")\n",
        "\n",
        "  # Parsing do HTML com BeautifulSoup\n",
        "  soup = BeautifulSoup(response.text, 'html.parser')\n",
        "\n",
        "  print(soup)\n",
        "\n",
        "else:\n",
        "  print(\"Erro ao acessar o site!\")"
      ],
      "metadata": {
        "id": "NuxJClvbrXmj"
      },
      "execution_count": null,
      "outputs": []
    },
    {
      "cell_type": "code",
      "source": [
        "print(response.text)"
      ],
      "metadata": {
        "id": "gsjfy-pmwTyE"
      },
      "execution_count": null,
      "outputs": []
    },
    {
      "cell_type": "code",
      "source": [
        "response.content"
      ],
      "metadata": {
        "id": "It0YUj-Pw3ZF"
      },
      "execution_count": null,
      "outputs": []
    },
    {
      "cell_type": "markdown",
      "source": [
        "# **Pegando O Titulo**"
      ],
      "metadata": {
        "id": "AuCV9k5DDrK3"
      }
    },
    {
      "cell_type": "code",
      "source": [
        "# Encontrar todos os elementos h3\n",
        "titulos = soup.find_all('h3')"
      ],
      "metadata": {
        "id": "eOWQYohzxTC0"
      },
      "execution_count": 4,
      "outputs": []
    },
    {
      "cell_type": "code",
      "source": [
        "titulos"
      ],
      "metadata": {
        "id": "l9mW9oUYy6gU",
        "collapsed": true,
        "colab": {
          "base_uri": "https://localhost:8080/"
        },
        "outputId": "8722f3ad-914c-4fc6-919c-0bf235dec458"
      },
      "execution_count": 5,
      "outputs": [
        {
          "output_type": "execute_result",
          "data": {
            "text/plain": [
              "[<h3><a href=\"catalogue/a-light-in-the-attic_1000/index.html\" title=\"A Light in the Attic\">A Light in the ...</a></h3>,\n",
              " <h3><a href=\"catalogue/tipping-the-velvet_999/index.html\" title=\"Tipping the Velvet\">Tipping the Velvet</a></h3>,\n",
              " <h3><a href=\"catalogue/soumission_998/index.html\" title=\"Soumission\">Soumission</a></h3>,\n",
              " <h3><a href=\"catalogue/sharp-objects_997/index.html\" title=\"Sharp Objects\">Sharp Objects</a></h3>,\n",
              " <h3><a href=\"catalogue/sapiens-a-brief-history-of-humankind_996/index.html\" title=\"Sapiens: A Brief History of Humankind\">Sapiens: A Brief History ...</a></h3>,\n",
              " <h3><a href=\"catalogue/the-requiem-red_995/index.html\" title=\"The Requiem Red\">The Requiem Red</a></h3>,\n",
              " <h3><a href=\"catalogue/the-dirty-little-secrets-of-getting-your-dream-job_994/index.html\" title=\"The Dirty Little Secrets of Getting Your Dream Job\">The Dirty Little Secrets ...</a></h3>,\n",
              " <h3><a href=\"catalogue/the-coming-woman-a-novel-based-on-the-life-of-the-infamous-feminist-victoria-woodhull_993/index.html\" title=\"The Coming Woman: A Novel Based on the Life of the Infamous Feminist, Victoria Woodhull\">The Coming Woman: A ...</a></h3>,\n",
              " <h3><a href=\"catalogue/the-boys-in-the-boat-nine-americans-and-their-epic-quest-for-gold-at-the-1936-berlin-olympics_992/index.html\" title=\"The Boys in the Boat: Nine Americans and Their Epic Quest for Gold at the 1936 Berlin Olympics\">The Boys in the ...</a></h3>,\n",
              " <h3><a href=\"catalogue/the-black-maria_991/index.html\" title=\"The Black Maria\">The Black Maria</a></h3>,\n",
              " <h3><a href=\"catalogue/starving-hearts-triangular-trade-trilogy-1_990/index.html\" title=\"Starving Hearts (Triangular Trade Trilogy, #1)\">Starving Hearts (Triangular Trade ...</a></h3>,\n",
              " <h3><a href=\"catalogue/shakespeares-sonnets_989/index.html\" title=\"Shakespeare's Sonnets\">Shakespeare's Sonnets</a></h3>,\n",
              " <h3><a href=\"catalogue/set-me-free_988/index.html\" title=\"Set Me Free\">Set Me Free</a></h3>,\n",
              " <h3><a href=\"catalogue/scott-pilgrims-precious-little-life-scott-pilgrim-1_987/index.html\" title=\"Scott Pilgrim's Precious Little Life (Scott Pilgrim #1)\">Scott Pilgrim's Precious Little ...</a></h3>,\n",
              " <h3><a href=\"catalogue/rip-it-up-and-start-again_986/index.html\" title=\"Rip it Up and Start Again\">Rip it Up and ...</a></h3>,\n",
              " <h3><a href=\"catalogue/our-band-could-be-your-life-scenes-from-the-american-indie-underground-1981-1991_985/index.html\" title=\"Our Band Could Be Your Life: Scenes from the American Indie Underground, 1981-1991\">Our Band Could Be ...</a></h3>,\n",
              " <h3><a href=\"catalogue/olio_984/index.html\" title=\"Olio\">Olio</a></h3>,\n",
              " <h3><a href=\"catalogue/mesaerion-the-best-science-fiction-stories-1800-1849_983/index.html\" title=\"Mesaerion: The Best Science Fiction Stories 1800-1849\">Mesaerion: The Best Science ...</a></h3>,\n",
              " <h3><a href=\"catalogue/libertarianism-for-beginners_982/index.html\" title=\"Libertarianism for Beginners\">Libertarianism for Beginners</a></h3>,\n",
              " <h3><a href=\"catalogue/its-only-the-himalayas_981/index.html\" title=\"It's Only the Himalayas\">It's Only the Himalayas</a></h3>]"
            ]
          },
          "metadata": {},
          "execution_count": 5
        }
      ]
    },
    {
      "cell_type": "code",
      "source": [
        "lista_titulos = []"
      ],
      "metadata": {
        "id": "v_LUvcHty_6C"
      },
      "execution_count": 6,
      "outputs": []
    },
    {
      "cell_type": "code",
      "source": [
        "for titulo in titulos:\n",
        "    # Encontrando o elemento <a> dentro do <h3>\n",
        "    nome = titulo.find('a')\n",
        "    if nome and 'title' in nome.attrs:\n",
        "        texto = nome['title']\n",
        "        print(texto)"
      ],
      "metadata": {
        "id": "MnEL1V3m-Bj3",
        "collapsed": true,
        "colab": {
          "base_uri": "https://localhost:8080/"
        },
        "outputId": "33b57151-713b-4b30-8718-d0153d37faf5"
      },
      "execution_count": 9,
      "outputs": [
        {
          "output_type": "stream",
          "name": "stdout",
          "text": [
            "A Light in the Attic\n",
            "Tipping the Velvet\n",
            "Soumission\n",
            "Sharp Objects\n",
            "Sapiens: A Brief History of Humankind\n",
            "The Requiem Red\n",
            "The Dirty Little Secrets of Getting Your Dream Job\n",
            "The Coming Woman: A Novel Based on the Life of the Infamous Feminist, Victoria Woodhull\n",
            "The Boys in the Boat: Nine Americans and Their Epic Quest for Gold at the 1936 Berlin Olympics\n",
            "The Black Maria\n",
            "Starving Hearts (Triangular Trade Trilogy, #1)\n",
            "Shakespeare's Sonnets\n",
            "Set Me Free\n",
            "Scott Pilgrim's Precious Little Life (Scott Pilgrim #1)\n",
            "Rip it Up and Start Again\n",
            "Our Band Could Be Your Life: Scenes from the American Indie Underground, 1981-1991\n",
            "Olio\n",
            "Mesaerion: The Best Science Fiction Stories 1800-1849\n",
            "Libertarianism for Beginners\n",
            "It's Only the Himalayas\n"
          ]
        }
      ]
    },
    {
      "cell_type": "code",
      "source": [
        "for titulo in titulos:\n",
        "\n",
        "    link = titulo.find('a')\n",
        "    if link and 'title' in link.attrs:\n",
        "        texto = link['title']\n",
        "\n",
        "        lista_titulos.append(texto)\n"
      ],
      "metadata": {
        "id": "S3x9cX1rDJse"
      },
      "execution_count": 10,
      "outputs": []
    },
    {
      "cell_type": "code",
      "source": [
        "print(lista_titulos)"
      ],
      "metadata": {
        "id": "lFSAEYpSPo8a",
        "collapsed": true,
        "colab": {
          "base_uri": "https://localhost:8080/"
        },
        "outputId": "fdfbd75b-b0a6-40a0-e664-f38e9288786e"
      },
      "execution_count": 11,
      "outputs": [
        {
          "output_type": "stream",
          "name": "stdout",
          "text": [
            "['A Light in the Attic', 'Tipping the Velvet', 'Soumission', 'Sharp Objects', 'Sapiens: A Brief History of Humankind', 'The Requiem Red', 'The Dirty Little Secrets of Getting Your Dream Job', 'The Coming Woman: A Novel Based on the Life of the Infamous Feminist, Victoria Woodhull', 'The Boys in the Boat: Nine Americans and Their Epic Quest for Gold at the 1936 Berlin Olympics', 'The Black Maria', 'Starving Hearts (Triangular Trade Trilogy, #1)', \"Shakespeare's Sonnets\", 'Set Me Free', \"Scott Pilgrim's Precious Little Life (Scott Pilgrim #1)\", 'Rip it Up and Start Again', 'Our Band Could Be Your Life: Scenes from the American Indie Underground, 1981-1991', 'Olio', 'Mesaerion: The Best Science Fiction Stories 1800-1849', 'Libertarianism for Beginners', \"It's Only the Himalayas\"]\n"
          ]
        }
      ]
    },
    {
      "cell_type": "markdown",
      "source": [
        "# **Pegando Valores**"
      ],
      "metadata": {
        "id": "Xv6QTPCMEJCX"
      }
    },
    {
      "cell_type": "code",
      "source": [
        "valores = soup.find_all(class_='price_color')\n",
        "\n",
        "for valor in valores:\n",
        "    print(valor.get_text())"
      ],
      "metadata": {
        "id": "6oVamt8cJ1yN",
        "collapsed": true,
        "colab": {
          "base_uri": "https://localhost:8080/"
        },
        "outputId": "92befc16-87ba-46e0-ae3e-7d5203004464"
      },
      "execution_count": 12,
      "outputs": [
        {
          "output_type": "stream",
          "name": "stdout",
          "text": [
            "Â£51.77\n",
            "Â£53.74\n",
            "Â£50.10\n",
            "Â£47.82\n",
            "Â£54.23\n",
            "Â£22.65\n",
            "Â£33.34\n",
            "Â£17.93\n",
            "Â£22.60\n",
            "Â£52.15\n",
            "Â£13.99\n",
            "Â£20.66\n",
            "Â£17.46\n",
            "Â£52.29\n",
            "Â£35.02\n",
            "Â£57.25\n",
            "Â£23.88\n",
            "Â£37.59\n",
            "Â£51.33\n",
            "Â£45.17\n"
          ]
        }
      ]
    },
    {
      "cell_type": "code",
      "source": [
        "lista_valores = []"
      ],
      "metadata": {
        "id": "3mJTwW03MHYV"
      },
      "execution_count": 16,
      "outputs": []
    },
    {
      "cell_type": "code",
      "source": [
        "for valor in valores:\n",
        "  texto = valor.get_text()\n",
        "  lista_valores.append(texto.replace('Â£', '').strip())"
      ],
      "metadata": {
        "id": "dF7lO8BxzaX7"
      },
      "execution_count": 17,
      "outputs": []
    },
    {
      "cell_type": "code",
      "source": [
        "#Convertendo em numerico\n",
        "valores_numericos = [float(valor) for valor in lista_valores]\n",
        "print(valores_numericos)\n",
        "lista_valores = valores_numericos"
      ],
      "metadata": {
        "colab": {
          "base_uri": "https://localhost:8080/"
        },
        "id": "xdgXMwERGoF5",
        "outputId": "9d2fedb5-d1b7-4390-eef8-68d30ae9a830"
      },
      "execution_count": 31,
      "outputs": [
        {
          "output_type": "stream",
          "name": "stdout",
          "text": [
            "[51.77, 53.74, 50.1, 47.82, 54.23, 22.65, 33.34, 17.93, 22.6, 52.15, 13.99, 20.66, 17.46, 52.29, 35.02, 57.25, 23.88, 37.59, 51.33, 45.17]\n"
          ]
        }
      ]
    },
    {
      "cell_type": "code",
      "source": [
        "print(lista_valores)"
      ],
      "metadata": {
        "colab": {
          "base_uri": "https://localhost:8080/"
        },
        "id": "Iz3C3Vn9zjeh",
        "outputId": "49fe1ee2-cdc5-4246-a8e9-34b3eeac4567"
      },
      "execution_count": 32,
      "outputs": [
        {
          "output_type": "stream",
          "name": "stdout",
          "text": [
            "[51.77, 53.74, 50.1, 47.82, 54.23, 22.65, 33.34, 17.93, 22.6, 52.15, 13.99, 20.66, 17.46, 52.29, 35.02, 57.25, 23.88, 37.59, 51.33, 45.17]\n"
          ]
        }
      ]
    },
    {
      "cell_type": "markdown",
      "source": [
        "# **Pegando o estoque**"
      ],
      "metadata": {
        "id": "WguFCRNxKHf2"
      }
    },
    {
      "cell_type": "code",
      "source": [
        "disponibilidade_em_estoque = soup.find_all(class_=\"instock availability\")\n",
        "\n",
        "textos_disponibilidade = [item.get_text(strip=True) for item in disponibilidade_em_estoque]\n",
        "\n",
        "print(textos_disponibilidade)"
      ],
      "metadata": {
        "colab": {
          "base_uri": "https://localhost:8080/"
        },
        "id": "5F8EjmehKMeV",
        "outputId": "263772d2-1bf3-4809-cae8-c9f3e74b91c5"
      },
      "execution_count": 39,
      "outputs": [
        {
          "output_type": "stream",
          "name": "stdout",
          "text": [
            "['In stock', 'In stock', 'In stock', 'In stock', 'In stock', 'In stock', 'In stock', 'In stock', 'In stock', 'In stock', 'In stock', 'In stock', 'In stock', 'In stock', 'In stock', 'In stock', 'In stock', 'In stock', 'In stock', 'In stock']\n"
          ]
        }
      ]
    },
    {
      "cell_type": "markdown",
      "source": [
        "# **Juntando os Três**"
      ],
      "metadata": {
        "id": "Sh5o4x4iNKG-"
      }
    },
    {
      "cell_type": "code",
      "source": [
        "Livros_valores = []\n",
        "\n",
        "# Loop para combinar os elementos das três listas\n",
        "for titulo, valor, disponibilidade in zip(lista_titulos, lista_valores, textos_disponibilidade):\n",
        "    Livros_valores.append((titulo, valor, disponibilidade))\n",
        "\n",
        "print(Livros_valores)\n",
        "\n"
      ],
      "metadata": {
        "colab": {
          "base_uri": "https://localhost:8080/"
        },
        "id": "E47ksktLOtfI",
        "outputId": "e5cf4a0d-e488-4216-fd1b-35d2348fa2ee"
      },
      "execution_count": 41,
      "outputs": [
        {
          "output_type": "stream",
          "name": "stdout",
          "text": [
            "[('A Light in the Attic', 51.77, 'In stock'), ('Tipping the Velvet', 53.74, 'In stock'), ('Soumission', 50.1, 'In stock'), ('Sharp Objects', 47.82, 'In stock'), ('Sapiens: A Brief History of Humankind', 54.23, 'In stock'), ('The Requiem Red', 22.65, 'In stock'), ('The Dirty Little Secrets of Getting Your Dream Job', 33.34, 'In stock'), ('The Coming Woman: A Novel Based on the Life of the Infamous Feminist, Victoria Woodhull', 17.93, 'In stock'), ('The Boys in the Boat: Nine Americans and Their Epic Quest for Gold at the 1936 Berlin Olympics', 22.6, 'In stock'), ('The Black Maria', 52.15, 'In stock'), ('Starving Hearts (Triangular Trade Trilogy, #1)', 13.99, 'In stock'), (\"Shakespeare's Sonnets\", 20.66, 'In stock'), ('Set Me Free', 17.46, 'In stock'), (\"Scott Pilgrim's Precious Little Life (Scott Pilgrim #1)\", 52.29, 'In stock'), ('Rip it Up and Start Again', 35.02, 'In stock'), ('Our Band Could Be Your Life: Scenes from the American Indie Underground, 1981-1991', 57.25, 'In stock'), ('Olio', 23.88, 'In stock'), ('Mesaerion: The Best Science Fiction Stories 1800-1849', 37.59, 'In stock'), ('Libertarianism for Beginners', 51.33, 'In stock'), (\"It's Only the Himalayas\", 45.17, 'In stock')]\n"
          ]
        }
      ]
    },
    {
      "cell_type": "markdown",
      "source": [
        "# **Colocando o Titulo**"
      ],
      "metadata": {
        "id": "uuWs5wtQTEaa"
      }
    },
    {
      "cell_type": "code",
      "source": [
        "df = pd.DataFrame(Livros_valores, columns=['Titulo', 'Valor Â£', \"Status\"])"
      ],
      "metadata": {
        "id": "aqq-I-VlSzZV"
      },
      "execution_count": 42,
      "outputs": []
    },
    {
      "cell_type": "code",
      "source": [
        "print(df)"
      ],
      "metadata": {
        "colab": {
          "base_uri": "https://localhost:8080/"
        },
        "id": "f4h0h20TTDmZ",
        "outputId": "662c9e4a-66e5-496b-be3a-4003a4846430"
      },
      "execution_count": 43,
      "outputs": [
        {
          "output_type": "stream",
          "name": "stdout",
          "text": [
            "                                               Titulo  Valor Â£    Status\n",
            "0                                A Light in the Attic     51.77  In stock\n",
            "1                                  Tipping the Velvet     53.74  In stock\n",
            "2                                          Soumission     50.10  In stock\n",
            "3                                       Sharp Objects     47.82  In stock\n",
            "4               Sapiens: A Brief History of Humankind     54.23  In stock\n",
            "5                                     The Requiem Red     22.65  In stock\n",
            "6   The Dirty Little Secrets of Getting Your Dream...     33.34  In stock\n",
            "7   The Coming Woman: A Novel Based on the Life of...     17.93  In stock\n",
            "8   The Boys in the Boat: Nine Americans and Their...     22.60  In stock\n",
            "9                                     The Black Maria     52.15  In stock\n",
            "10     Starving Hearts (Triangular Trade Trilogy, #1)     13.99  In stock\n",
            "11                              Shakespeare's Sonnets     20.66  In stock\n",
            "12                                        Set Me Free     17.46  In stock\n",
            "13  Scott Pilgrim's Precious Little Life (Scott Pi...     52.29  In stock\n",
            "14                          Rip it Up and Start Again     35.02  In stock\n",
            "15  Our Band Could Be Your Life: Scenes from the A...     57.25  In stock\n",
            "16                                               Olio     23.88  In stock\n",
            "17  Mesaerion: The Best Science Fiction Stories 18...     37.59  In stock\n",
            "18                       Libertarianism for Beginners     51.33  In stock\n",
            "19                            It's Only the Himalayas     45.17  In stock\n"
          ]
        }
      ]
    },
    {
      "cell_type": "markdown",
      "source": [
        "## 1 - Preço médio dos livros Mostra o preço médio de todos os livros listados"
      ],
      "metadata": {
        "id": "IuQmZLKvDv9i"
      }
    },
    {
      "cell_type": "code",
      "source": [
        "media_valor = df['Valor Â£'].mean()\n",
        "print(f\"A média dos preços é: Â£ {media_valor:.2f}\")"
      ],
      "metadata": {
        "colab": {
          "base_uri": "https://localhost:8080/"
        },
        "id": "eq1R_0rtD0n5",
        "outputId": "c0b9c57c-e4da-4852-adcf-c6221da1c190"
      },
      "execution_count": 46,
      "outputs": [
        {
          "output_type": "stream",
          "name": "stdout",
          "text": [
            "A média dos preços é: Â£ 38.05\n"
          ]
        }
      ]
    },
    {
      "cell_type": "markdown",
      "source": [
        "## 2 - Contagem de livros disponíveis Informa quantos livros estão disponíveis no estoque"
      ],
      "metadata": {
        "id": "2ui0A52nHLuQ"
      }
    },
    {
      "cell_type": "code",
      "source": [
        "livros_em_estoque = df[df['Status'] == 'In stock']\n",
        "\n",
        "# Conta quantos livros estão \"in stock\"\n",
        "num_livros_em_estoque = len(livros_em_estoque)\n",
        "\n",
        "print(f\"Número de livros 'in stock': {num_livros_em_estoque}\")"
      ],
      "metadata": {
        "colab": {
          "base_uri": "https://localhost:8080/"
        },
        "id": "3L8ksqVmIq_z",
        "outputId": "a1051627-43a3-4182-d216-8e7a182ca2c4"
      },
      "execution_count": 44,
      "outputs": [
        {
          "output_type": "stream",
          "name": "stdout",
          "text": [
            "Número de livros 'in stock': 20\n"
          ]
        }
      ]
    },
    {
      "cell_type": "markdown",
      "source": [
        "## 3 - Livros mais caros Exibe os 3 livros com os preços mais altos na lista"
      ],
      "metadata": {
        "id": "DynjOmghJIh1"
      }
    },
    {
      "cell_type": "code",
      "source": [
        "livros_mais_caros = df.nlargest(3, 'Valor Â£')\n",
        "\n",
        "print(livros_mais_caros)"
      ],
      "metadata": {
        "colab": {
          "base_uri": "https://localhost:8080/"
        },
        "id": "YXiQ9KAhJLPc",
        "outputId": "caaa4d00-ac45-42c5-e429-6da58a67ebb5"
      },
      "execution_count": 38,
      "outputs": [
        {
          "output_type": "stream",
          "name": "stdout",
          "text": [
            "                                               Titulo  Valor Â£\n",
            "15  Our Band Could Be Your Life: Scenes from the A...     57.25\n",
            "4               Sapiens: A Brief History of Humankind     54.23\n",
            "1                                  Tipping the Velvet     53.74\n"
          ]
        }
      ]
    }
  ]
}